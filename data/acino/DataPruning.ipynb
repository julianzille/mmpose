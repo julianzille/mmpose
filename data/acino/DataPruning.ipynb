{
 "cells": [
  {
   "cell_type": "markdown",
   "id": "ce5ff664-28a8-485f-8819-93a8a0a65d58",
   "metadata": {},
   "source": [
    "#### Extract all acino images to single directory"
   ]
  },
  {
   "cell_type": "code",
   "execution_count": null,
   "id": "60a2fa4b-c7e5-4b6d-a0c9-5c73aa0e64c3",
   "metadata": {},
   "outputs": [
    {
     "name": "stdout",
     "output_type": "stream",
     "text": [
      "10_12_2017JulesFlick2_1CAM8\n",
      "09_03_2019LilyFlick1CAM5\n",
      "03_03_2019MenyaRun1CAM1\n",
      "16_12_2017CetaneFlick2CAM8\n",
      "Cheetah1Flick1CAM7\n",
      "Cheetah1Flick1CAM6\n",
      "07_03_2019PhantomFlick1CAM6\n",
      "07_03_2019PhantomRun1CAM3\n",
      "10_12_2017JulesFlick1_1CAM1\n",
      "03_03_2019PhantomFlick1CAM2\n",
      "05_03_2019LilyRun1CAM5\n",
      "21_12_2017JulesFlick1_1CAM5\n",
      "03_03_2019PhantomFlick1CAM6\n",
      "09_12_2017JulesRun1CAM1\n",
      "Cheetah2Flick1_1CAM2\n",
      "10_12_2017ZorroFlick2CAM7\n",
      "9_12_2017JulesRun1CAM6\n",
      "17_12_2017JulesFlick2CAM10\n",
      "21_12_2017JulesFlick2_2CAM10\n",
      "07_03_2019MenyaFlick1CAM1\n"
     ]
    }
   ],
   "source": [
    "import os\n",
    "import pandas as pd\n",
    "from PIL import Image\n",
    "\n",
    "acino=os.getcwd()  # /notebooks/data/acino\n",
    "\n",
    "img_ids=[os.path.splitext(img)[0] for img in os.listdir(acino+'/../ap10k/data/')]\n",
    "img_ids.remove('.ipynb_checkpoints')\n",
    "img_ids=[int(i) for i in img_ids]\n",
    "img_no=max(img_ids)+1\n",
    "\n",
    "#print(acino)\n",
    "base=pd.read_csv('base.csv')\n",
    "\n",
    "for dir in os.listdir(acino+'/labelled'): #JamesFlick1 JamesFlick2 etc.\n",
    "    print(dir)\n",
    "    if os.path.isdir(acino+'/labelled/'+dir):\n",
    "        \n",
    "        df=pd.read_csv('labelled/'+dir+'/'+\"CollectedData_UCT.csv\")\n",
    "\n",
    "        df.iloc[0,1:]=df.iloc[0,1:].astype(str) +'_'+ df.iloc[1,1:].astype(str)\n",
    "        df.columns=df.iloc[0] # Make keypoint labels column headers\n",
    "        df=df.iloc[2:,:]\n",
    "        \n",
    "        #Extract COCO keypoints (AP10K):\n",
    "        #df=df.reindex(columns=(['bodyparts','l_eye_x','l_eye_y','r_eye_x','r_eye_y','nose_x','nose_y','neck_base_x','neck_base_y','tail_base_x','tail_base_y','l_shoulder_x','l_shoulder_y','l_front_knee_x','l_front_knee_y','l_front_paw_x','l_front_paw_y','r_shoulder_x','r_shoulder_y','r_front_knee_x','r_front_knee_y','r_front_paw_x','r_front_paw_y','l_hip_x','l_hip_y','l_back_knee_x','l_back_knee_y','l_back_paw_x','l_back_paw_y','r_hip_x','r_hip_y','r_back_knee_x','r_back_knee_y','r_back_paw_x','r_back_paw_y','tail2_x','tail2_y']))\n",
    "        \n",
    "        #Extract COCO keypoints (All Acino Keypoints):\n",
    "        df=df.reindex(columns=(['bodyparts','l_eye_x','l_eye_y','r_eye_x','r_eye_y','nose_x','nose_y','neck_base_x','neck_base_y','tail_base_x','tail_base_y','l_shoulder_x','l_shoulder_y','l_front_knee_x','l_front_knee_y','l_front_paw_x','l_front_paw_y','r_shoulder_x','r_shoulder_y','r_front_knee_x','r_front_knee_y','r_front_paw_x','r_front_paw_y','l_hip_x','l_hip_y','l_back_knee_x','l_back_knee_y','l_back_paw_x','l_back_paw_y','r_hip_x','r_hip_y','r_back_knee_x','r_back_knee_y','r_back_paw_x','r_back_paw_y','tail2_x','tail2_y','tail1_x','tail1_y','r_front_ankle_x','r_front_ankle_y','l_front_ankle_x','l_front_ankle_y','r_back_ankle_x','r_back_ankle_y','l_back_ankle_x','l_back_ankle_y','spine_x','spine_y']))\n",
    "        \n",
    "        for i in range(0,len(df)): # Iterate over rows\n",
    "            orig=df.iloc[i,0].split('/')[2]\n",
    "            df.iloc[i,0]='as_'+str(img_no)+'.jpg'\n",
    "            \n",
    "            im=Image.open('labelled/'+dir+'/'+orig)\n",
    "            img_name='as_'+str(img_no)\n",
    "            im.save('data/'+img_name+'.jpg')\n",
    "            \n",
    "            #os.remove('labelled1/'+dir+'/'+orig)\n",
    "            \n",
    "            \n",
    "            img_no+=1\n",
    "        base=pd.concat([base,df[0:]],ignore_index=True)\n",
    "        \n",
    "#base=base.reindex(columns=(['bodyparts','l_eye_x','l_eye_','UCT','UCT.1','UCT.46','UCT.47','UCT.48','UCT.49','UCT.44','UCT.45','UCT.26','UCT.27','UCT.28','UCT.29','UCT.32','UCT.33','UCT.4','UCT.5','UCT.6','UCT.7','UCT.10','UCT.11','UCT.34','UCT.35','UCT.36','UCT.37','UCT.40','UCT.41','UCT.14','UCT.15','UCT.16','UCT.17','UCT.20','UCT.21']))\n",
    "        \n",
    "base.to_csv(\"annotations.csv\",index=False)"
   ]
  },
  {
   "cell_type": "code",
   "execution_count": null,
   "id": "2a6083dd-f114-4944-a81b-5d25690b7cc9",
   "metadata": {},
   "outputs": [],
   "source": []
  },
  {
   "cell_type": "code",
   "execution_count": 15,
   "id": "40660aaa-259a-4975-8b23-27dab6e5e181",
   "metadata": {
    "collapsed": true,
    "jupyter": {
     "outputs_hidden": true,
     "source_hidden": true
    }
   },
   "outputs": [
    {
     "name": "stdout",
     "output_type": "stream",
     "text": [
      "img051.png\n",
      "img057.png\n",
      "img059.png\n",
      "img067.png\n",
      "img068.png\n",
      "img069.png\n",
      "img074.png\n",
      "img075.png\n",
      "img076.png\n",
      "img079.png\n",
      "img085.png\n",
      "img090.png\n",
      "img100.png\n",
      "img110.png\n",
      "img116.png\n",
      "img128.png\n",
      "img136.png\n",
      "img149.png\n",
      "img162.png\n",
      "img165.png\n",
      "img172.png\n",
      "img182.png\n",
      "img196.png\n",
      "img206.png\n",
      "img219.png\n",
      "img237.png\n",
      "img245.png\n",
      "img257.png\n"
     ]
    }
   ],
   "source": [
    "import os\n",
    "import pandas as pd\n",
    "df=pd.read_csv('CollectedData_UCT.csv')\n",
    "#df.columns=df.iloc[0]\n",
    "#df=df.iloc[1:,:]\n",
    "#print(df.columns)\n",
    "\n",
    "#for j in range(1,df.shape[1]):\n",
    "#    df.iloc[0,j])\n",
    "#df=df.iloc[0:2,1:]\n",
    "\n",
    "df.iloc[0,1:]=df.iloc[0,1:].astype(str) +'_'+ df.iloc[1,1:].astype(str)\n",
    "df.columns=df.iloc[0] # Make keypoint labels column headers\n",
    "df=df.iloc[2:,:]\n",
    "\n",
    "#Extract COCO keypoints:\n",
    "df=df.reindex(columns=(['bodyparts','l_eye_x','l_eye_y','r_eye_x','r_eye_y','nose_x','nose_y','neck_base_x','neck_base_y','tail_base_x','tail_base_y','l_shoulder_x','l_shoulder_y','l_front_knee_x','l_front_knee_y','l_front_paw_x','l_front_paw_y','r_shoulder_x','r_shoulder_y','r_front_knee_x','r_front_knee_y','r_front_paw_x','r_front_paw_y','l_hip_x','l_hip_y','l_back_knee_x','l_back_knee_y','l_back_paw_x','l_back_paw_y','r_hip_x','r_hip_y','r_back_knee_x','r_back_knee_y','r_back_paw_x','r_back_paw_y','tail2_x','tail2_y']))\n",
    "for i in range(0,len(df)): # Iterate over rows\n",
    "    orig=df.iloc[i,0].split('/')[2]\n",
    "    print(orig)\n",
    "# base=pd.DataFrame(columns=df.columns)\n",
    "# base.to_csv(\"base.csv\",index=False)"
   ]
  },
  {
   "cell_type": "code",
   "execution_count": null,
   "id": "080cd16b-b292-41dc-91d6-e024a232c619",
   "metadata": {},
   "outputs": [],
   "source": []
  }
 ],
 "metadata": {
  "kernelspec": {
   "display_name": "Python 3 (ipykernel)",
   "language": "python",
   "name": "python3"
  },
  "language_info": {
   "codemirror_mode": {
    "name": "ipython",
    "version": 3
   },
   "file_extension": ".py",
   "mimetype": "text/x-python",
   "name": "python",
   "nbconvert_exporter": "python",
   "pygments_lexer": "ipython3",
   "version": "3.9.13"
  }
 },
 "nbformat": 4,
 "nbformat_minor": 5
}
