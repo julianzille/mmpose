{
 "cells": [
  {
   "cell_type": "code",
   "execution_count": 1,
   "id": "36b722e2-c970-4def-9993-b24dddf21e49",
   "metadata": {
    "tags": []
   },
   "outputs": [],
   "source": [
    "import os\n",
    "import pandas as pd\n",
    "import random\n",
    "import json\n",
    "import numpy as np\n",
    "import cv2\n",
    "\n",
    "df = pd.read_csv('../annotations.csv')\n",
    "\n",
    "#size =  # Set size of dataset\n",
    "# imgs = range(2,7640)\n",
    "\n",
    "with open('acino_all.json','r+') as f:\n",
    "    anns_data=json.load(f)\n",
    "    \n",
    "    for i in range(0,len(df)):# Iterate over each image\n",
    "\n",
    "        #Add image instance\n",
    "        img_name=df.iloc[i,0]\n",
    "        img_id=int(img_name[3:].split('.')[0])\n",
    "        img=cv2.imread('../data/'+img_name)\n",
    "        height = img.shape[0]\n",
    "        width = img.shape[1]\n",
    "        img_inst=dict(width=width,height=height,file_name=img_name,background=1,id=img_id)\n",
    "        \n",
    "        #Add annotation instance\n",
    "        ann_id=img_id\n",
    "        kp=[]\n",
    "        num_kp=0\n",
    "\n",
    "        # Initial bbox:\n",
    "        x_min=width-1\n",
    "        x_max=1\n",
    "        y_min=height-1\n",
    "        y_max=1\n",
    "\n",
    "        for j in range(1,len(df.columns),2): # range(1,55) for \n",
    "            if pd.isnull(df.iloc[i,j]): #NaN values\n",
    "                kp.append(0)\n",
    "                kp.append(0)\n",
    "                kp.append(0)\n",
    "                \n",
    "            else:\n",
    "                x=int(round(pd.to_numeric(df.iloc[i,j])))\n",
    "                y=int(round(pd.to_numeric(df.iloc[i,j+1])))\n",
    "                \n",
    "                #Add annotations\n",
    "                kp.append(x)\n",
    "                kp.append(y)\n",
    "                kp.append(2)\n",
    "                num_kp+=1\n",
    "\n",
    "                #Bbox\n",
    "                if x<x_min:\n",
    "                    x_min=x\n",
    "                if x>x_max:\n",
    "                    x_max=x\n",
    "                if y>y_max:\n",
    "                    y_max=y\n",
    "                if y<y_min:\n",
    "                    y_min=y\n",
    "\n",
    "        w=max(1,(x_max-x_min)) # BBox width\n",
    "        h=max(1,(y_max-y_min)) # BBox height\n",
    "        a=w*h # Bbox area\n",
    "        \n",
    "        #Padded bounding box (5 pixels all sides):\n",
    "        bbox=[x_min-10,y_min-10,w+20,h+20] # xywh format NB! y_min==top left corner\n",
    "        \n",
    "#         if not kp[-1]==0: # Tip of tail != NaN\n",
    "#             num_kp-=1 \n",
    "            \n",
    "#         del kp[-3:] # Remove tail_x, tail_y, visible\n",
    "        \n",
    "        \n",
    "        ann_inst=dict(image_id=img_id,iscrowd=0,category_id=25,num_keypoints=num_kp,keypoints=kp,bbox=bbox,id=ann_id,area=a)\n",
    "        anns_data['images'].append(img_inst)\n",
    "        anns_data['annotations'].append(ann_inst)\n",
    "    f.seek(0)\n",
    "    json.dump(anns_data,f,indent=4)\n",
    "f.close()"
   ]
  },
  {
   "cell_type": "code",
   "execution_count": 2,
   "id": "73aed245-3fcb-452d-afbb-6f2bc3259bcf",
   "metadata": {},
   "outputs": [
    {
     "name": "stdout",
     "output_type": "stream",
     "text": [
      "Collecting echo1-coco-split\n",
      "  Downloading echo1_coco_split-0.1.5-py3-none-any.whl (5.2 kB)\n",
      "Requirement already satisfied: scikit-learn<2.0.0,>=1.0.2 in /usr/local/lib/python3.9/dist-packages (from echo1-coco-split) (1.1.1)\n",
      "Collecting funcy<2.0,>=1.17\n",
      "  Downloading funcy-1.17-py2.py3-none-any.whl (33 kB)\n",
      "Requirement already satisfied: threadpoolctl>=2.0.0 in /usr/local/lib/python3.9/dist-packages (from scikit-learn<2.0.0,>=1.0.2->echo1-coco-split) (3.1.0)\n",
      "Requirement already satisfied: numpy>=1.17.3 in /usr/local/lib/python3.9/dist-packages (from scikit-learn<2.0.0,>=1.0.2->echo1-coco-split) (1.23.1)\n",
      "Requirement already satisfied: scipy>=1.3.2 in /usr/local/lib/python3.9/dist-packages (from scikit-learn<2.0.0,>=1.0.2->echo1-coco-split) (1.8.1)\n",
      "Requirement already satisfied: joblib>=1.0.0 in /usr/local/lib/python3.9/dist-packages (from scikit-learn<2.0.0,>=1.0.2->echo1-coco-split) (1.1.0)\n",
      "Installing collected packages: funcy, echo1-coco-split\n",
      "Successfully installed echo1-coco-split-0.1.5 funcy-1.17\n",
      "\u001b[33mWARNING: Running pip as the 'root' user can result in broken permissions and conflicting behaviour with the system package manager. It is recommended to use a virtual environment instead: https://pip.pypa.io/warnings/venv\u001b[0m\u001b[33m\n",
      "\u001b[0mNote: you may need to restart the kernel to use updated packages.\n"
     ]
    }
   ],
   "source": [
    "%pip install echo1-coco-split"
   ]
  },
  {
   "cell_type": "code",
   "execution_count": 3,
   "id": "a00e9279-ee1f-4582-bbef-c05f623787ce",
   "metadata": {},
   "outputs": [
    {
     "name": "stdout",
     "output_type": "stream",
     "text": [
      "Saved 5346 annotations from 5346 images to acino_train.json\n",
      "Saved 764 annotations from 764 images to acino_val.json\n",
      "Saved 1528 annotations from 1528 images to acino_test.json\n"
     ]
    }
   ],
   "source": [
    "!coco-split --annotations_file acino_all.json --valid_ratio 0.1 --test_ratio 0.2 --train_name acino_train.json --valid_name acino_val.json --test_name acino_test.json --has_annotations"
   ]
  }
 ],
 "metadata": {
  "kernelspec": {
   "display_name": "Python 3 (ipykernel)",
   "language": "python",
   "name": "python3"
  },
  "language_info": {
   "codemirror_mode": {
    "name": "ipython",
    "version": 3
   },
   "file_extension": ".py",
   "mimetype": "text/x-python",
   "name": "python",
   "nbconvert_exporter": "python",
   "pygments_lexer": "ipython3",
   "version": "3.9.13"
  }
 },
 "nbformat": 4,
 "nbformat_minor": 5
}
